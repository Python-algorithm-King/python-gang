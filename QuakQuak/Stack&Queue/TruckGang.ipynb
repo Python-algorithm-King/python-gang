{
 "cells": [
  {
   "cell_type": "code",
   "execution_count": 16,
   "metadata": {
    "collapsed": true
   },
   "outputs": [],
   "source": [
    "# 1 초에 1칸씩 트럭 이동.\n",
    "# 다리길이 2칸, 무게 10키로 제한\n",
    "# 정해진 순서\n",
    "def solution(bridge_length, weight, truck_weights):\n",
    "    answer = 0\n",
    "    cur_weight = 0\n",
    "    bridge = list()\n",
    "    for truck in truck_weights:\n",
    "        bridge.append(truck)\n",
    "        cur_weight+=truck\n",
    "        if len(bridge) < bridge_length:\n",
    "            if cur_weight < weight:\n",
    "                answer+=1\n",
    "            else:\n",
    "                answer+=(bridge_length-len(bridge))\n",
    "                bridge.remove(truck)\n",
    "                cur_weight-=truck\n",
    "        elif len(bridge) == bridge_length:\n",
    "            answer+=1\n",
    "            bridge.remove(truck)\n",
    "    return answer"
   ]
  },
  {
   "cell_type": "code",
   "execution_count": 17,
   "outputs": [
    {
     "data": {
      "text/plain": "4"
     },
     "execution_count": 17,
     "metadata": {},
     "output_type": "execute_result"
    }
   ],
   "source": [
    "solution(2,10,[7,4,5,6])\n",
    "\n"
   ],
   "metadata": {
    "collapsed": false,
    "pycharm": {
     "name": "#%%\n"
    }
   }
  },
  {
   "cell_type": "code",
   "execution_count": null,
   "outputs": [],
   "source": [],
   "metadata": {
    "collapsed": false,
    "pycharm": {
     "name": "#%%\n"
    }
   }
  }
 ],
 "metadata": {
  "kernelspec": {
   "display_name": "Python 3",
   "language": "python",
   "name": "python3"
  },
  "language_info": {
   "codemirror_mode": {
    "name": "ipython",
    "version": 2
   },
   "file_extension": ".py",
   "mimetype": "text/x-python",
   "name": "python",
   "nbconvert_exporter": "python",
   "pygments_lexer": "ipython2",
   "version": "2.7.6"
  }
 },
 "nbformat": 4,
 "nbformat_minor": 0
}